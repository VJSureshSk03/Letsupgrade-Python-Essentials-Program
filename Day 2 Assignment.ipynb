{
 "cells": [
  {
   "cell_type": "markdown",
   "metadata": {},
   "source": [
    "# Questions 1 - List and its default functions"
   ]
  },
  {
   "cell_type": "code",
   "execution_count": 246,
   "metadata": {},
   "outputs": [],
   "source": [
    "# In Python, you can use a list function which creates a collection\n",
    "# that can be manipulated for your analysis. This collection of data\n",
    "# is called a list object.\n",
    "# While all methods are functions in Python, not all functions are methods.\n",
    "# There is a key difference between functions and methods in Python.\n",
    "# Functions take objects as inputs. Methods in contrast act on objects."
   ]
  },
  {
   "cell_type": "code",
   "execution_count": 247,
   "metadata": {},
   "outputs": [
    {
     "name": "stdout",
     "output_type": "stream",
     "text": [
      "['suresh', 'pravin', 'vicky', 'yoga', 'surya']\n"
     ]
    }
   ],
   "source": [
    "# Sample List Code:\n",
    "lst = [\"suresh\", \"pravin\", \"vicky\", \"yoga\", \"surya\"]\n",
    "print(lst)"
   ]
  },
  {
   "cell_type": "code",
   "execution_count": 248,
   "metadata": {},
   "outputs": [
    {
     "name": "stdout",
     "output_type": "stream",
     "text": [
      "<class 'list'>\n"
     ]
    }
   ],
   "source": [
    "# type(): It returns the class type of an object.\n",
    "print(type(lst))"
   ]
  },
  {
   "cell_type": "code",
   "execution_count": 249,
   "metadata": {},
   "outputs": [
    {
     "name": "stdout",
     "output_type": "stream",
     "text": [
      "['suresh', 'pravin', 'vicky', 'yoga', 'surya', 'selvam']\n"
     ]
    }
   ],
   "source": [
    "# append(): Adds a single element to a list.\n",
    "lst.append(\"selvam\")\n",
    "print(lst)"
   ]
  },
  {
   "cell_type": "code",
   "execution_count": 250,
   "metadata": {},
   "outputs": [
    {
     "name": "stdout",
     "output_type": "stream",
     "text": [
      "['suresh', 'pravin', 'vicky', 'yoga', 'surya', 'selvam', 'vijay', 'ajith']\n"
     ]
    }
   ],
   "source": [
    "# extend(): Adds multiple elements to a list.\n",
    "lst.extend([\"vijay\", \"ajith\"])\n",
    "print(lst)"
   ]
  },
  {
   "cell_type": "code",
   "execution_count": 251,
   "metadata": {},
   "outputs": [
    {
     "name": "stdout",
     "output_type": "stream",
     "text": [
      "['suresh', 'pravin', 'vicky', 'yoga', 'surya', 'selvam', 'vijay']\n"
     ]
    }
   ],
   "source": [
    "# remove(): Removes the first item from the list.\n",
    "lst.remove(\"ajith\")\n",
    "print(lst)"
   ]
  },
  {
   "cell_type": "code",
   "execution_count": 252,
   "metadata": {},
   "outputs": [
    {
     "name": "stdout",
     "output_type": "stream",
     "text": [
      "1\n"
     ]
    }
   ],
   "source": [
    "# count(): It returns the number of items the  specified element in the list.\n",
    "lst_1 = lst.count('vijay')\n",
    "print(lst_1)"
   ]
  },
  {
   "cell_type": "code",
   "execution_count": 253,
   "metadata": {},
   "outputs": [
    {
     "name": "stdout",
     "output_type": "stream",
     "text": [
      "['pravin', 'selvam', 'suresh', 'surya', 'vicky', 'vijay', 'yoga']\n"
     ]
    }
   ],
   "source": [
    "# sort(): Sorts the list in ascending order.\n",
    "lst.sort()\n",
    "print(lst)"
   ]
  },
  {
   "cell_type": "code",
   "execution_count": 254,
   "metadata": {},
   "outputs": [
    {
     "name": "stdout",
     "output_type": "stream",
     "text": [
      "7\n"
     ]
    }
   ],
   "source": [
    "# len(): It gives the total length of the list.\n",
    "print(len(lst))"
   ]
  },
  {
   "cell_type": "markdown",
   "metadata": {},
   "source": [
    "# Questions 2 - Dictionary and its default functions."
   ]
  },
  {
   "cell_type": "code",
   "execution_count": 255,
   "metadata": {},
   "outputs": [],
   "source": [
    "# In Python, a Dictionary can be created by placing sequence of elements\n",
    "# within curly {} braces, separated by ‘comma’. Dictionary holds a \n",
    "# pair of values, one being the Key and the other corresponding pair \n",
    "# element being its Key:value. Values in a dictionary can be of any \n",
    "# datatype and can be duplicated, whereas keys can’t be repeated and \n",
    "# must be immutable."
   ]
  },
  {
   "cell_type": "code",
   "execution_count": 256,
   "metadata": {},
   "outputs": [
    {
     "name": "stdout",
     "output_type": "stream",
     "text": [
      "{'name': 'Vijay', 'age': '21', 'address': 'Chennai'}\n"
     ]
    }
   ],
   "source": [
    "# Sample Code:\n",
    "dict = {'name':'Vijay', 'age': '21', 'address': 'Chennai'} \n",
    "print(dict)"
   ]
  },
  {
   "cell_type": "code",
   "execution_count": 257,
   "metadata": {},
   "outputs": [
    {
     "name": "stdout",
     "output_type": "stream",
     "text": [
      "<class 'dict'>\n"
     ]
    }
   ],
   "source": [
    "# type(): It returns the class type of an object.\n",
    "print(type(dict))"
   ]
  },
  {
   "cell_type": "code",
   "execution_count": 258,
   "metadata": {},
   "outputs": [
    {
     "name": "stdout",
     "output_type": "stream",
     "text": [
      "{'name': 'Vijay', 'age': '21'}\n"
     ]
    }
   ],
   "source": [
    "# popitem(): Removes a particular item in a ditionary.\n",
    "dict.popitem()\n",
    "print(dict)"
   ]
  },
  {
   "cell_type": "code",
   "execution_count": 259,
   "metadata": {},
   "outputs": [
    {
     "name": "stdout",
     "output_type": "stream",
     "text": [
      "{'name': 'Vijay', 'age': '21'}\n"
     ]
    }
   ],
   "source": [
    "# items(): Return a new object of the dictionary's items in (key, value) format.\n",
    "dict.items()\n",
    "print(dict)"
   ]
  },
  {
   "cell_type": "code",
   "execution_count": 260,
   "metadata": {},
   "outputs": [
    {
     "name": "stdout",
     "output_type": "stream",
     "text": [
      "{'name': 'Vijay', 'age': '21'}\n"
     ]
    }
   ],
   "source": [
    "# keys(): Returns a new object of the dictionary's key.\n",
    "dict.keys()\n",
    "print(dict)"
   ]
  },
  {
   "cell_type": "code",
   "execution_count": 261,
   "metadata": {},
   "outputs": [
    {
     "name": "stdout",
     "output_type": "stream",
     "text": [
      "{'name': 'Vijay', 'age': '21'}\n"
     ]
    }
   ],
   "source": [
    "# values(): Returns a new object of the dictionary's values.\n",
    "dict.values()\n",
    "print(dict)"
   ]
  },
  {
   "cell_type": "code",
   "execution_count": 262,
   "metadata": {},
   "outputs": [
    {
     "name": "stdout",
     "output_type": "stream",
     "text": [
      "{'name': 'Vijay', 'age': '21', 'DOB': '22-06-1974'}\n"
     ]
    }
   ],
   "source": [
    "dict.update({\"DOB\":\"22-06-1974\"})\n",
    "print(dict)"
   ]
  },
  {
   "cell_type": "code",
   "execution_count": 263,
   "metadata": {},
   "outputs": [
    {
     "name": "stdout",
     "output_type": "stream",
     "text": [
      "{}\n"
     ]
    }
   ],
   "source": [
    "# clear(): Removes all items from the dictionary.\n",
    "dict.clear()\n",
    "print(dict)"
   ]
  },
  {
   "cell_type": "markdown",
   "metadata": {},
   "source": [
    "# Questions 3 - Sets and its default functions."
   ]
  },
  {
   "cell_type": "code",
   "execution_count": 264,
   "metadata": {},
   "outputs": [],
   "source": [
    "# A set is an unordered collection of items. Every set element\n",
    "# is unique (no duplicates) and must be immutable (cannot be changed).\n",
    "# However, a set itself is mutable. We can add or remove items from it."
   ]
  },
  {
   "cell_type": "code",
   "execution_count": 265,
   "metadata": {},
   "outputs": [
    {
     "name": "stdout",
     "output_type": "stream",
     "text": [
      "{65, 34, 35, 11, 23}\n"
     ]
    }
   ],
   "source": [
    "# Sample Code:\n",
    "this = {11,34,65,23,65,35}\n",
    "print(this)"
   ]
  },
  {
   "cell_type": "code",
   "execution_count": 266,
   "metadata": {},
   "outputs": [
    {
     "name": "stdout",
     "output_type": "stream",
     "text": [
      "<class 'set'>\n"
     ]
    }
   ],
   "source": [
    "# type(): It returns the class type of an object.\n",
    "print(type(this))"
   ]
  },
  {
   "cell_type": "code",
   "execution_count": 267,
   "metadata": {},
   "outputs": [
    {
     "name": "stdout",
     "output_type": "stream",
     "text": [
      "{65, 34, 35, 11, 22, 23}\n"
     ]
    }
   ],
   "source": [
    "# add(): Adds an element to the set.\n",
    "this.add(22)\n",
    "print(this)"
   ]
  },
  {
   "cell_type": "code",
   "execution_count": 268,
   "metadata": {},
   "outputs": [
    {
     "name": "stdout",
     "output_type": "stream",
     "text": [
      "{65, 34, 35, 22, 23, 11}\n"
     ]
    }
   ],
   "source": [
    "# copy(): Returns a copy of the set.\n",
    "abc = this.copy()\n",
    "print(abc)"
   ]
  },
  {
   "cell_type": "code",
   "execution_count": 269,
   "metadata": {},
   "outputs": [
    {
     "name": "stdout",
     "output_type": "stream",
     "text": [
      "{11, 35}\n"
     ]
    }
   ],
   "source": [
    "# difference(): Returns the different of two or more sets as a new set.\n",
    "xyz = {22,34,65,23}\n",
    "z = abc.difference(xyz)\n",
    "print(z)"
   ]
  },
  {
   "cell_type": "code",
   "execution_count": 270,
   "metadata": {},
   "outputs": [
    {
     "name": "stdout",
     "output_type": "stream",
     "text": [
      "{65, 34, 35, 11, 22, 23}\n"
     ]
    }
   ],
   "source": [
    "# union(): Returns the union of sets in a new set.\n",
    "a = abc.union(xyz)\n",
    "print(a)"
   ]
  },
  {
   "cell_type": "code",
   "execution_count": 271,
   "metadata": {},
   "outputs": [
    {
     "name": "stdout",
     "output_type": "stream",
     "text": [
      "set()\n"
     ]
    }
   ],
   "source": [
    "# clear(): Removes all the elements from the set.\n",
    "this.clear()\n",
    "print(this)"
   ]
  },
  {
   "cell_type": "markdown",
   "metadata": {},
   "source": [
    "# Questions 4 - Tuple and explore default methods."
   ]
  },
  {
   "cell_type": "code",
   "execution_count": 272,
   "metadata": {},
   "outputs": [],
   "source": [
    "# Similar to Python lists, tuples are another standard data type that allows\n",
    "# you to store values in a sequence.\n",
    "#A tuple is a collection which is ordered and unchangeable.\n",
    "# Tuples are initialized with () brackets rather than [] brackets as with lists."
   ]
  },
  {
   "cell_type": "code",
   "execution_count": 273,
   "metadata": {},
   "outputs": [
    {
     "name": "stdout",
     "output_type": "stream",
     "text": [
      "(11, 34, 65, 23, 65, 35)\n"
     ]
    }
   ],
   "source": [
    "# Sample Code:\n",
    "tup = (11,34,65,23,65,35)\n",
    "print(tup)"
   ]
  },
  {
   "cell_type": "code",
   "execution_count": 274,
   "metadata": {},
   "outputs": [
    {
     "name": "stdout",
     "output_type": "stream",
     "text": [
      "<class 'tuple'>\n"
     ]
    }
   ],
   "source": [
    "# type(): It returns the class type of an object.\n",
    "print(type(tup))"
   ]
  },
  {
   "cell_type": "code",
   "execution_count": 275,
   "metadata": {},
   "outputs": [
    {
     "name": "stdout",
     "output_type": "stream",
     "text": [
      "6\n"
     ]
    }
   ],
   "source": [
    "# len(): It returns the length of the tuples.\n",
    "print(len(tup))"
   ]
  },
  {
   "cell_type": "code",
   "execution_count": 276,
   "metadata": {},
   "outputs": [
    {
     "name": "stdout",
     "output_type": "stream",
     "text": [
      "2\n"
     ]
    }
   ],
   "source": [
    "# count(): Returns the number of times a specified value occurs in a tuple\n",
    "a = tup.count(65)\n",
    "print(a)"
   ]
  },
  {
   "cell_type": "code",
   "execution_count": 277,
   "metadata": {},
   "outputs": [
    {
     "name": "stdout",
     "output_type": "stream",
     "text": [
      "1\n"
     ]
    }
   ],
   "source": [
    "# index(): Searches the tuple for a specified value and returns the position of where it was found\n",
    "a = tup.index(34)\n",
    "print(a)"
   ]
  },
  {
   "cell_type": "code",
   "execution_count": 278,
   "metadata": {},
   "outputs": [
    {
     "name": "stdout",
     "output_type": "stream",
     "text": [
      "11\n"
     ]
    }
   ],
   "source": [
    "# min(): It returns the minimum value from the tuples.\n",
    "print(min(tup))"
   ]
  },
  {
   "cell_type": "code",
   "execution_count": 279,
   "metadata": {},
   "outputs": [
    {
     "name": "stdout",
     "output_type": "stream",
     "text": [
      "65\n"
     ]
    }
   ],
   "source": [
    "# max(): It returns the maximum value from the tuples.\n",
    "print(max(tup))"
   ]
  },
  {
   "cell_type": "markdown",
   "metadata": {},
   "source": [
    "# Questions 5 - Strings and explore default methods."
   ]
  },
  {
   "cell_type": "code",
   "execution_count": 280,
   "metadata": {},
   "outputs": [],
   "source": [
    "# A string in Python is a sequence of characters.\n",
    "# It is a derived data type.\n",
    "# Strings are immutable.\n",
    "# This means that once defined, they cannot be changed."
   ]
  },
  {
   "cell_type": "code",
   "execution_count": 281,
   "metadata": {},
   "outputs": [
    {
     "name": "stdout",
     "output_type": "stream",
     "text": [
      "hello\n"
     ]
    }
   ],
   "source": [
    "# Sample Code:\n",
    "str = \"hello\"\n",
    "print(str)"
   ]
  },
  {
   "cell_type": "code",
   "execution_count": 282,
   "metadata": {},
   "outputs": [
    {
     "name": "stdout",
     "output_type": "stream",
     "text": [
      "<class 'str'>\n"
     ]
    }
   ],
   "source": [
    "# type(): It returns the class type of an object.\n",
    "print(type(str))"
   ]
  },
  {
   "cell_type": "code",
   "execution_count": 283,
   "metadata": {},
   "outputs": [
    {
     "name": "stdout",
     "output_type": "stream",
     "text": [
      "Hello\n"
     ]
    }
   ],
   "source": [
    "# capatalize(): Converts the first character o upper case.\n",
    "x = str.capitalize()\n",
    "print (x)"
   ]
  },
  {
   "cell_type": "code",
   "execution_count": 284,
   "metadata": {},
   "outputs": [
    {
     "name": "stdout",
     "output_type": "stream",
     "text": [
      "hello\n"
     ]
    }
   ],
   "source": [
    "# Casefold(): Converts string into lower case.\n",
    "x = str.casefold()\n",
    "print (x)"
   ]
  },
  {
   "cell_type": "code",
   "execution_count": 285,
   "metadata": {},
   "outputs": [
    {
     "name": "stdout",
     "output_type": "stream",
     "text": [
      "hello\n"
     ]
    }
   ],
   "source": [
    "# center(): Returns a centered string.\n",
    "x = str.center(5)\n",
    "print (x)"
   ]
  },
  {
   "cell_type": "code",
   "execution_count": 286,
   "metadata": {},
   "outputs": [
    {
     "name": "stdout",
     "output_type": "stream",
     "text": [
      "2\n"
     ]
    }
   ],
   "source": [
    "# count(): Returns the number of times a specified value occurs in a string.\n",
    "x = str.count(\"l\")\n",
    "print (x)"
   ]
  },
  {
   "cell_type": "code",
   "execution_count": 287,
   "metadata": {},
   "outputs": [
    {
     "name": "stdout",
     "output_type": "stream",
     "text": [
      "b'hello'\n"
     ]
    }
   ],
   "source": [
    "# encode(): Returns an encode version of the string.\n",
    "x = str.encode()\n",
    "print (x)"
   ]
  }
 ],
 "metadata": {
  "kernelspec": {
   "display_name": "Python 3",
   "language": "python",
   "name": "python3"
  },
  "language_info": {
   "codemirror_mode": {
    "name": "ipython",
    "version": 3
   },
   "file_extension": ".py",
   "mimetype": "text/x-python",
   "name": "python",
   "nbconvert_exporter": "python",
   "pygments_lexer": "ipython3",
   "version": "3.7.6"
  }
 },
 "nbformat": 4,
 "nbformat_minor": 4
}
