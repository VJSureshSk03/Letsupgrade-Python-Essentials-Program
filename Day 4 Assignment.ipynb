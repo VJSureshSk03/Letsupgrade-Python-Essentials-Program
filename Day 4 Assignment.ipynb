{
 "cells": [
  {
   "cell_type": "markdown",
   "metadata": {},
   "source": [
    "# Question 1"
   ]
  },
  {
   "cell_type": "code",
   "execution_count": 17,
   "metadata": {},
   "outputs": [
    {
     "name": "stdout",
     "output_type": "stream",
     "text": [
      "The first armstrong number is  1741725\n"
     ]
    }
   ],
   "source": [
    "# Print the first ArmStrong number in the range of 1042000 to 702648265 and \n",
    "# exit the loop as soon as you encounter the first armstrong number.\n",
    "# Use while loop\n",
    "\n",
    "#Output - The first armstrong number is -----------\n",
    "\n",
    "first_num = 1042000\n",
    "last_num = 702648265\n",
    "for num in range(first_num, last_num + 1):\n",
    "    order = len(str(num))\n",
    "    sum = 0\n",
    "    temp = num\n",
    "    while temp > 0:\n",
    "        digit = temp % 10\n",
    "        sum += digit ** order\n",
    "        temp //= 10\n",
    "    if num == sum:\n",
    "        print(\"The first armstrong number is \",num)\n",
    "        break"
   ]
  }
 ],
 "metadata": {
  "kernelspec": {
   "display_name": "Python 3",
   "language": "python",
   "name": "python3"
  }
 },
 "nbformat": 4,
 "nbformat_minor": 4
}
