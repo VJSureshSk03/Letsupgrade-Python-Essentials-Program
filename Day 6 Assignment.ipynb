{
 "cells": [
  {
   "cell_type": "markdown",
   "metadata": {},
   "source": [
    "# Question 1"
   ]
  },
  {
   "cell_type": "code",
   "execution_count": 8,
   "metadata": {},
   "outputs": [],
   "source": [
    "# For this challenge, create a bank account class that has two attributes\n",
    "# *ownerName\n",
    "# *Balance\n",
    "# And two methods\n",
    "# *deposit\n",
    "# *withdraw\n",
    "# As an added requirement, withdrawals may not exceed the available balance.\n",
    "# Instantiate your class, make several deposits and withdrawals,\n",
    "# and test to make sure the account cant be overdrawn."
   ]
  },
  {
   "cell_type": "code",
   "execution_count": 9,
   "metadata": {},
   "outputs": [
    {
     "name": "stdout",
     "output_type": "stream",
     "text": [
      "Enter Owner Name of Bank Account: Suresh\n",
      "Enter the Deposited Amount: 1000\n",
      "Amount Deposited: 1000.0\n",
      "Enter the Withdrawn Amount: 500\n",
      "\n",
      " You Withdrew: 500.0\n"
     ]
    }
   ],
   "source": [
    "class Bank_Account:\n",
    "    def __init__(self):\n",
    "        self.ownerName = \"\"\n",
    "        self.Balance = 0\n",
    "    def deposit(self):\n",
    "        name = str(input(\"Enter Owner Name of Bank Account: \"))\n",
    "        self.ownerName = name\n",
    "        amt = float(input(\"Enter the Deposited Amount: \"))\n",
    "        self.Balance += amt\n",
    "        print(\"Amount Deposited:\", amt)\n",
    "    def withdraw(self):\n",
    "        amt = float(input(\"Enter the Withdrawn Amount: \"))\n",
    "        if self.Balance >= amt:\n",
    "            self.Balance -= amt\n",
    "            print(\"\\n You Withdrew:\", amt)\n",
    "        else:\n",
    "            print(\"\\n Insufficient balance \")\n",
    "obj = Bank_Account()\n",
    "obj.deposit()\n",
    "obj.withdraw()"
   ]
  },
  {
   "cell_type": "markdown",
   "metadata": {},
   "source": [
    "# Question 2"
   ]
  },
  {
   "cell_type": "code",
   "execution_count": 10,
   "metadata": {},
   "outputs": [],
   "source": [
    "# For this challenge, create a cone class that has two attributes:\n",
    "# *R = Radius\n",
    "# *h = Height\n",
    "# And two methods:\n",
    "# *Volume = Π * r2 = (h/3)\n",
    "# *Surface area : base : Π * r2 , side : Π * r * √(r2 + h2)\n",
    "# Make only one class with functions, as in where required import Math."
   ]
  },
  {
   "cell_type": "code",
   "execution_count": 11,
   "metadata": {},
   "outputs": [
    {
     "name": "stdout",
     "output_type": "stream",
     "text": [
      "Enter the Radius Value: 5\n",
      "Enter the Height Value: 4\n",
      "Volume: 104.72\n",
      "Surface Area: 179.12\n"
     ]
    }
   ],
   "source": [
    "import math as m\n",
    "class cone:\n",
    "    R = float(input(\"Enter the Radius Value: \"))\n",
    "    h = float(input(\"Enter the Height Value: \"))\n",
    "    def volume(self):\n",
    "        vol = (m.pi * (self.R ** 2) * (self.h / 3))\n",
    "        print (\"Volume:\", round(vol, 2))\n",
    "    def surface_area(self):\n",
    "        base = m.pi * (self.R ** 2)\n",
    "        side = m.pi * self.R * (m.sqrt(self.R ** 2 + self.h ** 2))\n",
    "        print (\"Surface Area:\", round(base + side, 2))\n",
    "obj = cone()\n",
    "obj.volume()\n",
    "obj.surface_area()"
   ]
  }
 ],
 "metadata": {
  "kernelspec": {
   "display_name": "Python 3",
   "language": "python",
   "name": "python3"
  },
  "language_info": {
   "codemirror_mode": {
    "name": "ipython",
    "version": 3
   },
   "file_extension": ".py",
   "mimetype": "text/x-python",
   "name": "python",
   "nbconvert_exporter": "python",
   "pygments_lexer": "ipython3",
   "version": "3.7.6"
  }
 },
 "nbformat": 4,
 "nbformat_minor": 4
}
