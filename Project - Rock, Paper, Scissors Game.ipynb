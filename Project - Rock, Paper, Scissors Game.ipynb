{
 "cells": [
  {
   "cell_type": "markdown",
   "metadata": {},
   "source": [
    "# Project - Rock Paper Sissors Game"
   ]
  },
  {
   "cell_type": "markdown",
   "metadata": {},
   "source": [
    "STEPS :\n",
    "        1. Enter the Player choice (R, P, S)\n",
    "        2. Bot will get it's own choice (Using Random)\n",
    "        3. We will compare the winning possiblities using combinations\n",
    "        4. Print out the Winner, and increase the Score Board\n",
    "        5. Continue the Game till Player don't Stop"
   ]
  },
  {
   "cell_type": "code",
   "execution_count": 1,
   "metadata": {},
   "outputs": [],
   "source": [
    "def takePlayerInput():\n",
    "    player = \"blank\"\n",
    "    while not( player.lower() == \"r\" or player.lower() == \"p\" or player.lower() == \"s\") :\n",
    "        player = input(\"Please Enter your input out of - R | P | S = \")\n",
    "    return player"
   ]
  },
  {
   "cell_type": "code",
   "execution_count": 2,
   "metadata": {},
   "outputs": [],
   "source": [
    "import random \n",
    "\n",
    "def getBotInput():\n",
    "    lst = ['r','s','p']\n",
    "    return random.choice(lst)"
   ]
  },
  {
   "cell_type": "code",
   "execution_count": 3,
   "metadata": {},
   "outputs": [],
   "source": [
    "def checkWinner(player,bot):\n",
    "    if player == 'r' and bot == \"r\":\n",
    "        return \"Draw\"\n",
    "    elif player == \"r\" and bot == \"p\":\n",
    "        return \"Bot\"\n",
    "    elif player == \"r\" and bot == \"s\":\n",
    "        return \"Player\"\n",
    "    elif player == \"p\" and bot == \"s\":\n",
    "        return \"Bot\"\n",
    "    elif player == \"p\" and bot == \"r\":\n",
    "        return \"Player\"\n",
    "    elif player == \"p\" and bot == \"p\":\n",
    "        return \"Draw\"\n",
    "    elif player == \"s\" and bot == \"r\":\n",
    "        return \"Bot\"\n",
    "    elif player == \"s\" and bot == \"p\":\n",
    "        return \"Player\"\n",
    "    elif player == \"s\" and bot == \"s\":\n",
    "        return \"Draw\"\n",
    "    else:\n",
    "        return \"Draw\""
   ]
  },
  {
   "cell_type": "code",
   "execution_count": 4,
   "metadata": {},
   "outputs": [],
   "source": [
    "def rockPaperScissor():\n",
    "    endTheGame = \"n\"\n",
    "    player_score = 0 \n",
    "    bot_score = 0\n",
    "    while endTheGame.lower() != \"y\":\n",
    "        ply = takePlayerInput()\n",
    "        bt = getBotInput()\n",
    "        print('Bot Entered input out of - R | P | S = ', bt)\n",
    "        print(\" \")\n",
    "        winner = checkWinner(player = ply, bot = bt)\n",
    "        print(\" Winner is = \", winner)\n",
    "        print(\" \")\n",
    "        if winner == \"Player\":\n",
    "            player_score += 2\n",
    "        elif winner == \"Bot\":\n",
    "            bot_score += 2\n",
    "        else :\n",
    "            player_score += 1\n",
    "            bot_score += 1\n",
    "            \n",
    "        print(\"--SCORE BOARD--\")\n",
    "        print(\"Player : \",player_score)\n",
    "        print(\"Bot    : \",bot_score)\n",
    "        print(\" \")\n",
    "        endTheGame = input(\"You want to End the Game - Y/N - \")"
   ]
  },
  {
   "cell_type": "code",
   "execution_count": 5,
   "metadata": {},
   "outputs": [
    {
     "name": "stdout",
     "output_type": "stream",
     "text": [
      "Please Enter your input out of - R | P | S = r\n",
      "Bot Entered input out of - R | P | S =  r\n",
      " \n",
      " Winner is =  Draw\n",
      " \n",
      "--SCORE BOARD--\n",
      "Player :  1\n",
      "Bot    :  1\n",
      " \n",
      "You want to End the Game - Y/N - n\n",
      "Please Enter your input out of - R | P | S = p\n",
      "Bot Entered input out of - R | P | S =  p\n",
      " \n",
      " Winner is =  Draw\n",
      " \n",
      "--SCORE BOARD--\n",
      "Player :  2\n",
      "Bot    :  2\n",
      " \n",
      "You want to End the Game - Y/N - n\n",
      "Please Enter your input out of - R | P | S = s\n",
      "Bot Entered input out of - R | P | S =  s\n",
      " \n",
      " Winner is =  Draw\n",
      " \n",
      "--SCORE BOARD--\n",
      "Player :  3\n",
      "Bot    :  3\n",
      " \n",
      "You want to End the Game - Y/N - n\n",
      "Please Enter your input out of - R | P | S = p\n",
      "Bot Entered input out of - R | P | S =  s\n",
      " \n",
      " Winner is =  Bot\n",
      " \n",
      "--SCORE BOARD--\n",
      "Player :  3\n",
      "Bot    :  5\n",
      " \n",
      "You want to End the Game - Y/N - n\n",
      "Please Enter your input out of - R | P | S = r\n",
      "Bot Entered input out of - R | P | S =  r\n",
      " \n",
      " Winner is =  Draw\n",
      " \n",
      "--SCORE BOARD--\n",
      "Player :  4\n",
      "Bot    :  6\n",
      " \n",
      "You want to End the Game - Y/N - n\n",
      "Please Enter your input out of - R | P | S = s\n",
      "Bot Entered input out of - R | P | S =  s\n",
      " \n",
      " Winner is =  Draw\n",
      " \n",
      "--SCORE BOARD--\n",
      "Player :  5\n",
      "Bot    :  7\n",
      " \n",
      "You want to End the Game - Y/N - n\n",
      "Please Enter your input out of - R | P | S = r\n",
      "Bot Entered input out of - R | P | S =  s\n",
      " \n",
      " Winner is =  Player\n",
      " \n",
      "--SCORE BOARD--\n",
      "Player :  7\n",
      "Bot    :  7\n",
      " \n",
      "You want to End the Game - Y/N - y\n"
     ]
    }
   ],
   "source": [
    "rockPaperScissor()"
   ]
  }
 ],
 "metadata": {
  "kernelspec": {
   "display_name": "Python 3",
   "language": "python",
   "name": "python3"
  },
  "language_info": {
   "codemirror_mode": {
    "name": "ipython",
    "version": 3
   },
   "file_extension": ".py",
   "mimetype": "text/x-python",
   "name": "python",
   "nbconvert_exporter": "python",
   "pygments_lexer": "ipython3",
   "version": "3.7.6"
  }
 },
 "nbformat": 4,
 "nbformat_minor": 4
}
